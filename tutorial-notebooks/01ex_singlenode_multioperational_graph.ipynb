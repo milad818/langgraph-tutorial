{
  "nbformat": 4,
  "nbformat_minor": 0,
  "metadata": {
    "colab": {
      "provenance": []
    },
    "kernelspec": {
      "name": "python3",
      "display_name": "Python 3"
    },
    "language_info": {
      "name": "python"
    }
  },
  "cells": [
    {
      "cell_type": "markdown",
      "source": [
        "**Exercise No.:** 01\n",
        "\n",
        "**Exercise Name:** Single-node Multi-operational Graph"
      ],
      "metadata": {
        "id": "p2rIVnSHvotF"
      }
    },
    {
      "cell_type": "markdown",
      "source": [
        "## Task Description:\n",
        "\n",
        "Create agraph where you pass a single list of integers along with a name and an operation. If the operation is a `+`, you add the elements and if it is a `*`, you multiply the elements, all within the same node.\n",
        "\n"
      ],
      "metadata": {
        "id": "-r9tQ4hHwJ_X"
      }
    },
    {
      "cell_type": "markdown",
      "source": [
        "**Input:** `{\"name\": \"Johney\", \"data\": [1,2,3,4,5,6], \"operation\": \"+\"}`\n",
        "\n",
        "**Output:** `\"Hello Johney, your answer is: 21\"`"
      ],
      "metadata": {
        "id": "Tgo3AEdjwo_6"
      }
    },
    {
      "cell_type": "code",
      "execution_count": 1,
      "metadata": {
        "colab": {
          "base_uri": "https://localhost:8080/"
        },
        "id": "U9WRf1WIuTjc",
        "outputId": "9c7eb0f3-eeb7-41f2-b764-7fb257848e41"
      },
      "outputs": [
        {
          "output_type": "stream",
          "name": "stdout",
          "text": [
            "\u001b[2K     \u001b[90m━━━━━━━━━━━━━━━━━━━━━━━━━━━━━━━━━━━━━━━━\u001b[0m \u001b[32m43.7/43.7 kB\u001b[0m \u001b[31m1.5 MB/s\u001b[0m eta \u001b[36m0:00:00\u001b[0m\n",
            "\u001b[2K   \u001b[90m━━━━━━━━━━━━━━━━━━━━━━━━━━━━━━━━━━━━━━━━\u001b[0m \u001b[32m154.9/154.9 kB\u001b[0m \u001b[31m5.3 MB/s\u001b[0m eta \u001b[36m0:00:00\u001b[0m\n",
            "\u001b[2K   \u001b[90m━━━━━━━━━━━━━━━━━━━━━━━━━━━━━━━━━━━━━━━━\u001b[0m \u001b[32m44.2/44.2 kB\u001b[0m \u001b[31m2.4 MB/s\u001b[0m eta \u001b[36m0:00:00\u001b[0m\n",
            "\u001b[2K   \u001b[90m━━━━━━━━━━━━━━━━━━━━━━━━━━━━━━━━━━━━━━━━\u001b[0m \u001b[32m50.0/50.0 kB\u001b[0m \u001b[31m1.8 MB/s\u001b[0m eta \u001b[36m0:00:00\u001b[0m\n",
            "\u001b[2K   \u001b[90m━━━━━━━━━━━━━━━━━━━━━━━━━━━━━━━━━━━━━━━━\u001b[0m \u001b[32m216.5/216.5 kB\u001b[0m \u001b[31m5.1 MB/s\u001b[0m eta \u001b[36m0:00:00\u001b[0m\n",
            "\u001b[?25h"
          ]
        }
      ],
      "source": [
        "!pip install -q langgraph"
      ]
    },
    {
      "cell_type": "code",
      "source": [
        "from typing import List, TypedDict\n",
        "from langgraph.graph import Graph, StateGraph\n",
        "import math"
      ],
      "metadata": {
        "id": "rrg3VpK-0jvq"
      },
      "execution_count": 4,
      "outputs": []
    },
    {
      "cell_type": "code",
      "source": [
        "class AgentState(TypedDict):\n",
        "  name: str\n",
        "  data: List[int]\n",
        "  operation: str\n",
        "  answer: str"
      ],
      "metadata": {
        "id": "zkCfkDni0waq"
      },
      "execution_count": 13,
      "outputs": []
    },
    {
      "cell_type": "code",
      "source": [
        "def manipulate_values(state: AgentState) -> AgentState:\n",
        "  \"\"\"\n",
        "  This function receives and manipulates multiple inputs.\n",
        "\n",
        "  :param state: AgentState\n",
        "  :return: AgentState\n",
        "  \"\"\"\n",
        "\n",
        "  print(\"State before action:\", state)\n",
        "\n",
        "  if state[\"operation\"] == \"+\":\n",
        "    state[\"answer\"] = f\"Hello {state['name']}! Your answer is {sum(state['data'])}\"\n",
        "  elif state[\"operation\"] == \"*\":\n",
        "    state[\"answer\"] = f\"Hello {state['name']}! Your answer is {math.prod(state['data'])}\"\n",
        "\n",
        "  print(\"State after action:\", state)\n",
        "\n",
        "  return state"
      ],
      "metadata": {
        "id": "YY7j_NV-1NqC"
      },
      "execution_count": 22,
      "outputs": []
    },
    {
      "cell_type": "code",
      "source": [
        "graph = StateGraph(AgentState)\n",
        "\n",
        "graph.add_node(\"agent1\", manipulate_values)\n",
        "\n",
        "graph.set_entry_point(\"agent1\")\n",
        "graph.set_finish_point(\"agent1\")\n",
        "\n",
        "app = graph.compile()"
      ],
      "metadata": {
        "id": "4ReL5pRu35pJ"
      },
      "execution_count": 23,
      "outputs": []
    },
    {
      "cell_type": "code",
      "source": [
        "app"
      ],
      "metadata": {
        "colab": {
          "base_uri": "https://localhost:8080/",
          "height": 251
        },
        "id": "OahtpkUf4ASA",
        "outputId": "fbe428d7-a9d4-4e5d-db03-0b5f3b6c293d"
      },
      "execution_count": 24,
      "outputs": [
        {
          "output_type": "execute_result",
          "data": {
            "text/plain": [
              "<langgraph.graph.state.CompiledStateGraph object at 0x79fa04163290>"
            ],
            "image/png": "[encoded data removed]"
          },
          "metadata": {},
          "execution_count": 24
        }
      ]
    },
    {
      "cell_type": "code",
      "source": [
        "# Alternatively, you can display the graph as implemented below\n",
        "from IPython.display import Image, display\n",
        "display(Image(app.get_graph().draw_mermaid_png()))"
      ],
      "metadata": {
        "colab": {
          "base_uri": "https://localhost:8080/",
          "height": 251
        },
        "id": "8z7m3bIV4BeQ",
        "outputId": "b1cadd3d-14b6-47cb-e4bc-de9795ec35dd"
      },
      "execution_count": 25,
      "outputs": [
        {
          "output_type": "display_data",
          "data": {
            "image/png": "[encoded data removed]",
            "text/plain": [
              "<IPython.core.display.Image object>"
            ]
          },
          "metadata": {}
        }
      ]
    },
    {
      "cell_type": "markdown",
      "source": [
        "**NOTE!** Remember to store your compiled graph in a variable (`app` here)."
      ],
      "metadata": {
        "id": "xhW4NFdN4KoY"
      }
    },
    {
      "cell_type": "code",
      "source": [
        "answers = app.invoke({\"data\": [1,2,3,4,5,6], \"name\": \"Johney\", \"operation\": \"+\"})"
      ],
      "metadata": {
        "colab": {
          "base_uri": "https://localhost:8080/"
        },
        "id": "gtcZrTDG4GQI",
        "outputId": "27009537-a4af-4516-dacd-9620cbd465de"
      },
      "execution_count": 26,
      "outputs": [
        {
          "output_type": "stream",
          "name": "stdout",
          "text": [
            "State before action: {'name': 'Johney', 'data': [1, 2, 3, 4, 5, 6], 'operation': '+'}\n",
            "State after action: {'name': 'Johney', 'data': [1, 2, 3, 4, 5, 6], 'operation': '+', 'answer': 'Hello Johney! Your answer is 21'}\n"
          ]
        }
      ]
    },
    {
      "cell_type": "code",
      "source": [
        "print(answers)"
      ],
      "metadata": {
        "colab": {
          "base_uri": "https://localhost:8080/"
        },
        "id": "ek4cka5041Op",
        "outputId": "ea20719c-f3cb-4281-f9af-dfe387be3298"
      },
      "execution_count": 27,
      "outputs": [
        {
          "output_type": "stream",
          "name": "stdout",
          "text": [
            "{'name': 'Johney', 'data': [1, 2, 3, 4, 5, 6], 'operation': '+', 'answer': 'Hello Johney! Your answer is 21'}\n"
          ]
        }
      ]
    },
    {
      "cell_type": "code",
      "source": [
        "print(answers[\"answer\"])"
      ],
      "metadata": {
        "colab": {
          "base_uri": "https://localhost:8080/"
        },
        "id": "cKiBx_Nt4_Qn",
        "outputId": "ce9b7822-25dc-4dd8-8111-82ddaff824e4"
      },
      "execution_count": 28,
      "outputs": [
        {
          "output_type": "stream",
          "name": "stdout",
          "text": [
            "Hello Johney! Your answer is 21\n"
          ]
        }
      ]
    },
    {
      "cell_type": "code",
      "source": [],
      "metadata": {
        "id": "aT3Py7ns5CBo"
      },
      "execution_count": null,
      "outputs": []
    }
  ]
}