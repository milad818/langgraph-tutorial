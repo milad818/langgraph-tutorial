{
  "nbformat": 4,
  "nbformat_minor": 0,
  "metadata": {
    "colab": {
      "provenance": []
    },
    "kernelspec": {
      "name": "python3",
      "display_name": "Python 3"
    },
    "language_info": {
      "name": "python"
    }
  },
  "cells": [
    {
      "cell_type": "markdown",
      "source": [
        "## Conditional Graph"
      ],
      "metadata": {
        "id": "sXOoWoRO3pQ2"
      }
    },
    {
      "cell_type": "markdown",
      "source": [
        "### What is a conditional Graph?"
      ],
      "metadata": {
        "id": "cX_zsnTT3sJC"
      }
    },
    {
      "cell_type": "markdown",
      "source": [
        "A conditional graph is a workflow graph where the path taken between nodes is not fixed, but instead depends on some condition or logic evaluated at runtime. This makes it different from a sequential graph, where steps follow a fixed order."
      ],
      "metadata": {
        "id": "81GSmi3pWLto"
      }
    },
    {
      "cell_type": "markdown",
      "source": [
        " In the Context of LLMs and LangGraph\n",
        "When using LangGraph with LLMs, a conditional graph allows you to:\n",
        "- Dynamically route prompts, tools, or actions based on LLM output.\n",
        "- Build intelligent agents that can plan, reflect, or retry actions.\n",
        "- Introduce logic-based control flow, like loops, branches, and early exits."
      ],
      "metadata": {
        "id": "fMxto_4-Vzfy"
      }
    },
    {
      "cell_type": "markdown",
      "source": [
        "### How does it work?\n",
        "\n",
        "Each node in a LangGraph can:\n",
        "- Produce output and modify state\n",
        "- Include conditional logic that decides where to go next\n",
        "- LangGraph allows you to define edge functions that evaluate the current state and return the name of the next node."
      ],
      "metadata": {
        "id": "Ua-23Z0KWmND"
      }
    },
    {
      "cell_type": "markdown",
      "source": [
        "### Example Flow:\n",
        "\n",
        "Imagine a customer support agent:\n",
        "\n",
        "```\n",
        "Start\n",
        " └──► \"Classify Query\" (LLM: is it billing, tech, or other?)\n",
        "          ├──► \"Billing Response\" (if billing)\n",
        "          ├──► \"Tech Troubleshooter\" (if technical issue)\n",
        "          └──► \"Escalate to Human\" (if unclear or other)\n",
        "\n",
        "```\n",
        "\n",
        "Each transition is conditional, based on the LLM's classification result."
      ],
      "metadata": {
        "id": "7rOc914QW92K"
      }
    },
    {
      "cell_type": "markdown",
      "source": [
        "### Common Use Cases:\n",
        "\n",
        "1. Multi-step agents with tool selection\n",
        "LLM decides: Should I call a calculator, search tool, or ask the user for clarification?\n",
        "\n",
        "2. Dynamic prompt chains\n",
        "Based on confidence or presence of an answer, the model either proceeds, re-asks, or escalates.\n",
        "\n",
        "3. Retry or fallback mechanisms\n",
        "If a generation fails validation, the graph loops back and tries a different approach or prompt.\n",
        "4. Decision trees powered by LLMs\n",
        "LLM determines the path, but LangGraph enforces the structure and state tracking."
      ],
      "metadata": {
        "id": "Ey1zoADOXO1s"
      }
    },
    {
      "cell_type": "markdown",
      "source": [
        "### Why does conditional graphs matter in LLM workflows?\n",
        "\n",
        "- **Improved control & reliability:** Instead of chaining prompts blindly, you can shape behavior.\n",
        "- **Efficient resource use:** Avoids unnecessary tool calls or prompt steps.\n",
        "- **Supports complex tasks:** Enables reasoning, planning, retries, and self-reflection loops."
      ],
      "metadata": {
        "id": "OP541OVdYAUC"
      }
    },
    {
      "cell_type": "markdown",
      "source": [
        "In brief, a conditional graph in LangGraph lets you build flexible, intelligent, and controllable LLM workflows by defining paths that change based on model output or state. It’s a key pattern for building LLM agents, AI copilots, and automated pipelines that can adapt and reason over tasks."
      ],
      "metadata": {
        "id": "qEvHW7vdYaNT"
      }
    },
    {
      "cell_type": "code",
      "source": [
        "# Install libraries\n",
        "!pip install -q -U langgraph"
      ],
      "metadata": {
        "id": "2jdkFt4jlYXa",
        "outputId": "67cc71f7-6bc2-4fca-c286-1257640c964f",
        "colab": {
          "base_uri": "https://localhost:8080/"
        }
      },
      "execution_count": 1,
      "outputs": [
        {
          "output_type": "stream",
          "name": "stdout",
          "text": [
            "\u001b[2K     \u001b[90m━━━━━━━━━━━━━━━━━━━━━━━━━━━━━━━━━━━━━━━━\u001b[0m \u001b[32m43.7/43.7 kB\u001b[0m \u001b[31m1.1 MB/s\u001b[0m eta \u001b[36m0:00:00\u001b[0m\n",
            "\u001b[2K   \u001b[90m━━━━━━━━━━━━━━━━━━━━━━━━━━━━━━━━━━━━━━━━\u001b[0m \u001b[32m152.4/152.4 kB\u001b[0m \u001b[31m6.2 MB/s\u001b[0m eta \u001b[36m0:00:00\u001b[0m\n",
            "\u001b[2K   \u001b[90m━━━━━━━━━━━━━━━━━━━━━━━━━━━━━━━━━━━━━━━━\u001b[0m \u001b[32m44.2/44.2 kB\u001b[0m \u001b[31m1.5 MB/s\u001b[0m eta \u001b[36m0:00:00\u001b[0m\n",
            "\u001b[2K   \u001b[90m━━━━━━━━━━━━━━━━━━━━━━━━━━━━━━━━━━━━━━━━\u001b[0m \u001b[32m50.0/50.0 kB\u001b[0m \u001b[31m2.2 MB/s\u001b[0m eta \u001b[36m0:00:00\u001b[0m\n",
            "\u001b[2K   \u001b[90m━━━━━━━━━━━━━━━━━━━━━━━━━━━━━━━━━━━━━━━━\u001b[0m \u001b[32m216.5/216.5 kB\u001b[0m \u001b[31m6.1 MB/s\u001b[0m eta \u001b[36m0:00:00\u001b[0m\n",
            "\u001b[?25h"
          ]
        }
      ]
    },
    {
      "cell_type": "markdown",
      "source": [
        "**NOTE!** Since Google Colab is used to execute and run this whole set of notebooks, we have to first install the necessary libraries."
      ],
      "metadata": {
        "id": "ioSD1ZB2lfoM"
      }
    },
    {
      "cell_type": "markdown",
      "source": [
        "Down below we will be implementing a very basic calculator which will either perform an addition or subtraction operation based on a given condition."
      ],
      "metadata": {
        "id": "BL9FyAuCsfBd"
      }
    },
    {
      "cell_type": "code",
      "source": [
        "# Import libraries\n",
        "from typing import TypedDict\n",
        "from langgraph.graph import StateGraph, START, END"
      ],
      "metadata": {
        "id": "6xq5teDsWzDS"
      },
      "execution_count": 2,
      "outputs": []
    },
    {
      "cell_type": "code",
      "source": [
        "class AgentState(TypedDict):\n",
        "  num1: int\n",
        "  operation: str\n",
        "  num2: int\n",
        "  result: int"
      ],
      "metadata": {
        "id": "rq4FTKNHlNoR"
      },
      "execution_count": 3,
      "outputs": []
    },
    {
      "cell_type": "code",
      "source": [
        "def adder(state: AgentState) -> AgentState:\n",
        "  \"\"\"\n",
        "  This is a node to add up numbers.\n",
        "\n",
        "  Args:\n",
        "    state = the current state of the agent\n",
        "\n",
        "  Returns:\n",
        "    the next state of the agent\n",
        "    \"\"\"\n",
        "  state[\"result\"] = state[\"num1\"] + state[\"num2\"]\n",
        "  return state"
      ],
      "metadata": {
        "id": "fIoyJurJppgh"
      },
      "execution_count": 4,
      "outputs": []
    },
    {
      "cell_type": "code",
      "source": [
        "def subtractor(state: AgentState) -> AgentState:\n",
        "  \"\"\"\n",
        "  This is a node to subtract numbers.\n",
        "\n",
        "  Args:\n",
        "    state = the current state of the agent\n",
        "\n",
        "  Returns:\n",
        "    the next state of the agent\n",
        "    \"\"\"\n",
        "  state[\"result\"] = state[\"num1\"] - state[\"num2\"]\n",
        "  return state"
      ],
      "metadata": {
        "id": "-ivAl0kXsLVh"
      },
      "execution_count": 5,
      "outputs": []
    },
    {
      "cell_type": "code",
      "source": [
        "def pick_next_node(state: AgentState) -> str:\n",
        "  \"\"\"\n",
        "  This is a node to pick the next node to go to.\n",
        "\n",
        "  Args:\n",
        "    state = the current state of the agent\n",
        "\n",
        "  Returns:\n",
        "    operation to go with\n",
        "    \"\"\"\n",
        "  if state[\"operation\"] == \"+\":\n",
        "    return \"addition_operation\"\n",
        "  elif state[\"operation\"] == \"-\":\n",
        "    return \"subtraction_operation\"\n",
        "  else:\n",
        "    return \"Invalid Operation!\""
      ],
      "metadata": {
        "id": "uJH-44ztsSXn"
      },
      "execution_count": 6,
      "outputs": []
    },
    {
      "cell_type": "code",
      "source": [
        "# Initialize graph\n",
        "graph = StateGraph(AgentState)\n",
        "\n",
        "# Add nodes to the graph\n",
        "graph.add_node(\"addition_node\", adder)\n",
        "graph.add_node(\"subtraction_node\", subtractor)\n",
        "graph.add_node(\"router\", lambda state:state)  # the lambda in this case is referred to as  passthrough function\n",
        "\n",
        "graph.add_edge(START, \"router\")\n",
        "\n",
        "graph.add_conditional_edges(\n",
        "    \"router\",\n",
        "    pick_next_node,\n",
        "    {\"addition_operation\": \"addition_node\",\n",
        "     \"subtraction_operation\": \"subtraction_node\"}\n",
        ")\n",
        "\n",
        "graph.add_edge(\"addition_node\", END)\n",
        "graph.add_edge(\"subtraction_node\", END)\n",
        "\n",
        "# Compile graph\n",
        "app = graph.compile()"
      ],
      "metadata": {
        "id": "Yo3kFGsKxrxE"
      },
      "execution_count": 7,
      "outputs": []
    },
    {
      "cell_type": "code",
      "source": [
        "app"
      ],
      "metadata": {
        "colab": {
          "base_uri": "https://localhost:8080/",
          "height": 374
        },
        "id": "rfKn4MDd-3Uh",
        "outputId": "ec073328-c6c7-4b3a-afad-159ce4ecfb82"
      },
      "execution_count": 8,
      "outputs": [
        {
          "output_type": "execute_result",
          "data": {
            "text/plain": [
              "<langgraph.graph.state.CompiledStateGraph object at 0x7cd208f6bc90>"
            ],
            "image/png": "[encoded data removed]"
          },
          "metadata": {},
          "execution_count": 8
        }
      ]
    },
    {
      "cell_type": "code",
      "source": [
        "# OR alternatively as you may already know\n",
        "from IPython.display import Image, display\n",
        "display(Image(app.get_graph().draw_mermaid_png()))"
      ],
      "metadata": {
        "colab": {
          "base_uri": "https://localhost:8080/",
          "height": 374
        },
        "id": "b1vxnRu9Bix_",
        "outputId": "2dcdccd7-b6a2-46a2-acd9-7cb2665b8616"
      },
      "execution_count": 9,
      "outputs": [
        {
          "output_type": "display_data",
          "data": {
            "image/png": "[encoded data removed]",
            "text/plain": [
              "<IPython.core.display.Image object>"
            ]
          },
          "metadata": {}
        }
      ]
    },
    {
      "cell_type": "code",
      "source": [
        "state_1 = AgentState(num1=10, operation=\"+\", num2=5)\n",
        "app.invoke(state_1)"
      ],
      "metadata": {
        "id": "ZJ8fhsdgCRZY",
        "colab": {
          "base_uri": "https://localhost:8080/"
        },
        "outputId": "986bafdf-6141-48cc-a660-b281eed8ca81"
      },
      "execution_count": 11,
      "outputs": [
        {
          "output_type": "execute_result",
          "data": {
            "text/plain": [
              "{'num1': 10, 'operation': '+', 'num2': 5, 'result': 15}"
            ]
          },
          "metadata": {},
          "execution_count": 11
        }
      ]
    },
    {
      "cell_type": "code",
      "source": [
        "state_2 = AgentState(num1=10, operation=\"-\", num2=5)\n",
        "app.invoke(state_2)"
      ],
      "metadata": {
        "colab": {
          "base_uri": "https://localhost:8080/"
        },
        "id": "6fGiT6HHd0es",
        "outputId": "3c997be3-32a5-42da-f7b6-ed9b3cb69c65"
      },
      "execution_count": 12,
      "outputs": [
        {
          "output_type": "execute_result",
          "data": {
            "text/plain": [
              "{'num1': 10, 'operation': '-', 'num2': 5, 'result': 5}"
            ]
          },
          "metadata": {},
          "execution_count": 12
        }
      ]
    },
    {
      "cell_type": "code",
      "source": [],
      "metadata": {
        "id": "21wkouFJd6Us"
      },
      "execution_count": null,
      "outputs": []
    }
  ]
}