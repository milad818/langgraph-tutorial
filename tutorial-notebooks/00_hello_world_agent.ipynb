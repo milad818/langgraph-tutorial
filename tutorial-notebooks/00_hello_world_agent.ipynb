{
  "nbformat": 4,
  "nbformat_minor": 0,
  "metadata": {
    "colab": {
      "provenance": []
    },
    "kernelspec": {
      "name": "python3",
      "display_name": "Python 3"
    },
    "language_info": {
      "name": "python"
    }
  },
  "cells": [
    {
      "cell_type": "markdown",
      "source": [
        "**Project No.**: 00\n",
        "\n",
        "**Project Name**: Hello World Agent"
      ],
      "metadata": {
        "id": "QhEVZAaDr5bb"
      }
    },
    {
      "cell_type": "markdown",
      "source": [
        "## Hello World Agent"
      ],
      "metadata": {
        "id": "xevjgq7MsaWv"
      }
    },
    {
      "cell_type": "code",
      "source": [
        "!pip install -q langgraph typing"
      ],
      "metadata": {
        "id": "6yaGPIVcs4Wu",
        "colab": {
          "base_uri": "https://localhost:8080/"
        },
        "outputId": "e47463c3-d291-4ea4-bc5c-ac629cabf017"
      },
      "execution_count": 4,
      "outputs": [
        {
          "output_type": "stream",
          "name": "stdout",
          "text": [
            "\u001b[?25l     \u001b[90m━━━━━━━━━━━━━━━━━━━━━━━━━━━━━━━━━━━━━━━━\u001b[0m \u001b[32m0.0/78.6 kB\u001b[0m \u001b[31m?\u001b[0m eta \u001b[36m-:--:--\u001b[0m\r\u001b[2K     \u001b[91m━━━━━━━━━━━━━━━━━━━━━━━━━━━━━━━━━━━━\u001b[0m\u001b[90m╺\u001b[0m\u001b[90m━━━\u001b[0m \u001b[32m71.7/78.6 kB\u001b[0m \u001b[31m2.7 MB/s\u001b[0m eta \u001b[36m0:00:01\u001b[0m\r\u001b[2K     \u001b[90m━━━━━━━━━━━━━━━━━━━━━━━━━━━━━━━━━━━━━━━━\u001b[0m \u001b[32m78.6/78.6 kB\u001b[0m \u001b[31m1.7 MB/s\u001b[0m eta \u001b[36m0:00:00\u001b[0m\n",
            "\u001b[?25h  Preparing metadata (setup.py) ... \u001b[?25l\u001b[?25hdone\n",
            "\u001b[2K     \u001b[90m━━━━━━━━━━━━━━━━━━━━━━━━━━━━━━━━━━━━━━━━\u001b[0m \u001b[32m43.7/43.7 kB\u001b[0m \u001b[31m2.0 MB/s\u001b[0m eta \u001b[36m0:00:00\u001b[0m\n",
            "\u001b[2K   \u001b[90m━━━━━━━━━━━━━━━━━━━━━━━━━━━━━━━━━━━━━━━━\u001b[0m \u001b[32m154.9/154.9 kB\u001b[0m \u001b[31m5.3 MB/s\u001b[0m eta \u001b[36m0:00:00\u001b[0m\n",
            "\u001b[2K   \u001b[90m━━━━━━━━━━━━━━━━━━━━━━━━━━━━━━━━━━━━━━━━\u001b[0m \u001b[32m44.2/44.2 kB\u001b[0m \u001b[31m2.1 MB/s\u001b[0m eta \u001b[36m0:00:00\u001b[0m\n",
            "\u001b[2K   \u001b[90m━━━━━━━━━━━━━━━━━━━━━━━━━━━━━━━━━━━━━━━━\u001b[0m \u001b[32m50.0/50.0 kB\u001b[0m \u001b[31m2.8 MB/s\u001b[0m eta \u001b[36m0:00:00\u001b[0m\n",
            "\u001b[2K   \u001b[90m━━━━━━━━━━━━━━━━━━━━━━━━━━━━━━━━━━━━━━━━\u001b[0m \u001b[32m216.5/216.5 kB\u001b[0m \u001b[31m13.4 MB/s\u001b[0m eta \u001b[36m0:00:00\u001b[0m\n",
            "\u001b[?25h  Building wheel for typing (setup.py) ... \u001b[?25l\u001b[?25hdone\n"
          ]
        }
      ]
    },
    {
      "cell_type": "code",
      "execution_count": 5,
      "metadata": {
        "id": "bVVIYsDPrm5V"
      },
      "outputs": [],
      "source": [
        "from typing import Dict, TypedDict\n",
        "from langgraph.graph import StateGraph"
      ]
    },
    {
      "cell_type": "code",
      "source": [
        "class AgentState(TypedDict):\n",
        "  message: str\n",
        "\n",
        "def greeting_node(state: AgentState):\n",
        "  \"\"\"This node modifies the initial state and return a greeting state.\"\"\"\n",
        "\n",
        "  state['message'] = \"Hello \" + state['message'] + \", how is it going with you?\"\n",
        "  return state\n",
        "\n",
        "  # Alternatively, the state might be returned as below\n",
        "  # return {\"message\": \"Hello \" + state['message'] + \", how is it going with you?\"}"
      ],
      "metadata": {
        "id": "P2tdjMaVsrs5"
      },
      "execution_count": 6,
      "outputs": []
    },
    {
      "cell_type": "code",
      "source": [
        "graph = StateGraph(AgentState)\n",
        "\n",
        "graph.add_node(\"greeting\", greeting_node)\n",
        "\n",
        "graph.set_entry_point(\"greeting\")\n",
        "graph.set_finish_point(\"greeting\")\n",
        "\n",
        "\n",
        "app = graph.compile()"
      ],
      "metadata": {
        "id": "GsDPrQAp2PqF"
      },
      "execution_count": 10,
      "outputs": []
    },
    {
      "cell_type": "code",
      "source": [
        "app"
      ],
      "metadata": {
        "colab": {
          "base_uri": "https://localhost:8080/",
          "height": 251
        },
        "id": "jFjDmRwP3fSi",
        "outputId": "ae082f5b-9279-4ccf-8f7f-ae8b15914397"
      },
      "execution_count": 11,
      "outputs": [
        {
          "output_type": "execute_result",
          "data": {
            "text/plain": [
              "<langgraph.graph.state.CompiledStateGraph object at 0x7e4892d30810>"
            ],
            "image/png": "[encoded data removed]"
          },
          "metadata": {},
          "execution_count": 11
        }
      ]
    },
    {
      "cell_type": "code",
      "source": [
        "result = app.invoke({\"message\": \"John\"})"
      ],
      "metadata": {
        "id": "ZuPtwp3LBGzp"
      },
      "execution_count": 12,
      "outputs": []
    },
    {
      "cell_type": "code",
      "source": [
        "result"
      ],
      "metadata": {
        "colab": {
          "base_uri": "https://localhost:8080/"
        },
        "id": "GRyV-BCsCY2P",
        "outputId": "8557be84-74d6-4af3-b33c-ab318739059c"
      },
      "execution_count": 13,
      "outputs": [
        {
          "output_type": "execute_result",
          "data": {
            "text/plain": [
              "{'message': 'Hello John, how is it going with you?'}"
            ]
          },
          "metadata": {},
          "execution_count": 13
        }
      ]
    },
    {
      "cell_type": "markdown",
      "source": [
        "Tools will be explained later, however, always keep in mind that...\n",
        "\n",
        "Tool invocation flow in LangGraph is typically as listed below:\n",
        "\n",
        "1. User input enters the graph.\n",
        "2. A router or decision node may determine that a tool is needed.\n",
        "3. The correct node calls the tool.\n",
        "4. The result is passed into the next state.\n",
        "5. The LLM (or another node) uses the result in its generation or decision-making"
      ],
      "metadata": {
        "id": "iiyPVYFHDaJS"
      }
    },
    {
      "cell_type": "code",
      "source": [],
      "metadata": {
        "id": "P6S1BDzICelu"
      },
      "execution_count": null,
      "outputs": []
    }
  ]
}