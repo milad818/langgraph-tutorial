{
  "nbformat": 4,
  "nbformat_minor": 0,
  "metadata": {
    "colab": {
      "provenance": []
    },
    "kernelspec": {
      "name": "python3",
      "display_name": "Python 3"
    },
    "language_info": {
      "name": "python"
    }
  },
  "cells": [
    {
      "cell_type": "markdown",
      "source": [
        "**Project No.**: 01\n",
        "\n",
        "**Project Name**: Multiple Input Graph"
      ],
      "metadata": {
        "id": "3_S0ByDxGoRC"
      }
    },
    {
      "cell_type": "markdown",
      "source": [
        "## Multiple Input Graph"
      ],
      "metadata": {
        "id": "wyLv5464GqFw"
      }
    },
    {
      "cell_type": "markdown",
      "source": [
        "A multiple input graph refers to a computational graph where nodes (typically representing agents or tools) can receive and process multiple types of inputs simultaneously — such as text, structured data, or intermediate results from other agents — and then make decisions or perform tasks based on that combined input.\n",
        "\n",
        "In other words, a multiple input graph allows agents to receive and reason over multiple inputs at once, enabling more dynamic workflows where decisions are made based on combined outputs from several upstream nodes."
      ],
      "metadata": {
        "id": "TuDm6QgBrxmA"
      }
    },
    {
      "cell_type": "code",
      "execution_count": 3,
      "metadata": {
        "colab": {
          "base_uri": "https://localhost:8080/"
        },
        "id": "j8HL4zv8FJlo",
        "outputId": "ef3d4560-6674-4525-d6bb-3fae10592e21"
      },
      "outputs": [
        {
          "output_type": "stream",
          "name": "stdout",
          "text": [
            "\u001b[2K     \u001b[90m━━━━━━━━━━━━━━━━━━━━━━━━━━━━━━━━━━━━━━━━\u001b[0m \u001b[32m43.7/43.7 kB\u001b[0m \u001b[31m2.1 MB/s\u001b[0m eta \u001b[36m0:00:00\u001b[0m\n",
            "\u001b[2K   \u001b[90m━━━━━━━━━━━━━━━━━━━━━━━━━━━━━━━━━━━━━━━━\u001b[0m \u001b[32m154.9/154.9 kB\u001b[0m \u001b[31m4.6 MB/s\u001b[0m eta \u001b[36m0:00:00\u001b[0m\n",
            "\u001b[2K   \u001b[90m━━━━━━━━━━━━━━━━━━━━━━━━━━━━━━━━━━━━━━━━\u001b[0m \u001b[32m44.2/44.2 kB\u001b[0m \u001b[31m2.9 MB/s\u001b[0m eta \u001b[36m0:00:00\u001b[0m\n",
            "\u001b[2K   \u001b[90m━━━━━━━━━━━━━━━━━━━━━━━━━━━━━━━━━━━━━━━━\u001b[0m \u001b[32m50.0/50.0 kB\u001b[0m \u001b[31m3.3 MB/s\u001b[0m eta \u001b[36m0:00:00\u001b[0m\n",
            "\u001b[2K   \u001b[90m━━━━━━━━━━━━━━━━━━━━━━━━━━━━━━━━━━━━━━━━\u001b[0m \u001b[32m216.5/216.5 kB\u001b[0m \u001b[31m16.1 MB/s\u001b[0m eta \u001b[36m0:00:00\u001b[0m\n",
            "\u001b[?25h"
          ]
        }
      ],
      "source": [
        "!pip install -q langgraph"
      ]
    },
    {
      "cell_type": "code",
      "source": [
        "from typing import List, TypedDict\n",
        "from langgraph.graph import Graph, StateGraph"
      ],
      "metadata": {
        "id": "MM-97CsFGmoT"
      },
      "execution_count": 16,
      "outputs": []
    },
    {
      "cell_type": "code",
      "source": [
        "class AgentState(TypedDict):\n",
        "  data: List[int]\n",
        "  name: str\n",
        "  result: str"
      ],
      "metadata": {
        "id": "6rJAoqh5G-sw"
      },
      "execution_count": 17,
      "outputs": []
    },
    {
      "cell_type": "code",
      "source": [
        "def manipulate_values(state: AgentState) -> AgentState:\n",
        "  \"\"\"This function receives and manipulates multiple inputs.\"\"\"\n",
        "\n",
        "  print(\"State before action:\", state)\n",
        "  state[\"result\"] = f\"Hey {state['name']}! This is the result: {sum(state['data'])}\"\n",
        "  print(\"State after action:\", state)\n",
        "\n",
        "  return state"
      ],
      "metadata": {
        "id": "RsFTooT-t4t4"
      },
      "execution_count": 32,
      "outputs": []
    },
    {
      "cell_type": "code",
      "source": [
        "graph = StateGraph(AgentState)\n",
        "\n",
        "graph.add_node(\"agent1\", manipulate_values)\n",
        "\n",
        "graph.set_entry_point(\"agent1\")\n",
        "graph.set_finish_point(\"agent1\")\n",
        "\n",
        "app = graph.compile()"
      ],
      "metadata": {
        "id": "mLRVjLifDe5s"
      },
      "execution_count": 33,
      "outputs": []
    },
    {
      "cell_type": "code",
      "source": [
        "app"
      ],
      "metadata": {
        "colab": {
          "base_uri": "https://localhost:8080/",
          "height": 251
        },
        "id": "iiB68m6KFqMD",
        "outputId": "5f958ea5-0b18-4d48-b5e1-e565d7044ca1"
      },
      "execution_count": 34,
      "outputs": [
        {
          "output_type": "execute_result",
          "data": {
            "text/plain": [
              "<langgraph.graph.state.CompiledStateGraph object at 0x7dcaabb502d0>"
            ],
            "image/png": "[encoded data removed]"
          },
          "metadata": {},
          "execution_count": 34
        }
      ]
    },
    {
      "cell_type": "code",
      "source": [
        "# Alternatively, you can display the graph as implemented below\n",
        "from IPython.display import Image, display\n",
        "display(Image(app.get_graph().draw_mermaid_png()))"
      ],
      "metadata": {
        "colab": {
          "base_uri": "https://localhost:8080/",
          "height": 251
        },
        "id": "7zLq0gebG6vE",
        "outputId": "f1ee898f-c341-41e5-84ec-039622abf2ac"
      },
      "execution_count": 35,
      "outputs": [
        {
          "output_type": "display_data",
          "data": {
            "image/png": "[encoded data removed]",
            "text/plain": [
              "<IPython.core.display.Image object>"
            ]
          },
          "metadata": {}
        }
      ]
    },
    {
      "cell_type": "markdown",
      "source": [
        "**NOTE!** Remember to store your compiled graph in a variable (`app` here)."
      ],
      "metadata": {
        "id": "KfFpwMXQHggU"
      }
    },
    {
      "cell_type": "code",
      "source": [
        "answers = app.invoke({\"data\": [1,2,3,4], \"name\": \"Jimmy\"})"
      ],
      "metadata": {
        "colab": {
          "base_uri": "https://localhost:8080/"
        },
        "id": "VeCyfhKHHWeE",
        "outputId": "ec7849b6-a561-4bbc-d865-77bd6a3042e4"
      },
      "execution_count": 36,
      "outputs": [
        {
          "output_type": "stream",
          "name": "stdout",
          "text": [
            "State before action: {'data': [1, 2, 3, 4], 'name': 'Jimmy'}\n",
            "State after action: {'data': [1, 2, 3, 4], 'name': 'Jimmy', 'result': 'Hey Jimmy! This is the result: 10'}\n"
          ]
        }
      ]
    },
    {
      "cell_type": "code",
      "source": [
        "print(answers)"
      ],
      "metadata": {
        "colab": {
          "base_uri": "https://localhost:8080/"
        },
        "id": "h9r56QESH7m7",
        "outputId": "27e9adb1-2b7b-4e30-d8a7-8f7c1f99626f"
      },
      "execution_count": 37,
      "outputs": [
        {
          "output_type": "stream",
          "name": "stdout",
          "text": [
            "{'data': [1, 2, 3, 4], 'name': 'Jimmy', 'result': 'Hey Jimmy! This is the result: 10'}\n"
          ]
        }
      ]
    },
    {
      "cell_type": "code",
      "source": [
        "print(answers[\"result\"])"
      ],
      "metadata": {
        "colab": {
          "base_uri": "https://localhost:8080/"
        },
        "id": "9_4y-mEKJbxq",
        "outputId": "3aae193d-ce79-4adb-e43b-374991000d10"
      },
      "execution_count": 38,
      "outputs": [
        {
          "output_type": "stream",
          "name": "stdout",
          "text": [
            "Hey Jimmy! This is the result: 10\n"
          ]
        }
      ]
    },
    {
      "cell_type": "code",
      "source": [],
      "metadata": {
        "id": "6-n7J0EcJttC"
      },
      "execution_count": 38,
      "outputs": []
    }
  ]
}